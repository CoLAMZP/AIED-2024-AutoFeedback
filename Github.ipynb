{
 "cells": [
  {
   "cell_type": "raw",
   "id": "abe24b27-945a-41ca-907e-76d481b06581",
   "metadata": {},
   "source": [
    "Due to privacy considerations regarding the data, we will primarily showcase code related to DiCE XAI and ChatGPT. "
   ]
  },
  {
   "cell_type": "markdown",
   "id": "a1ba12f1-15c1-47f5-8b7e-ae11f77570f2",
   "metadata": {
    "tags": []
   },
   "source": [
    "# DiCE XAI"
   ]
  },
  {
   "cell_type": "code",
   "execution_count": null,
   "id": "32b1d665-4a02-4379-b268-645d9fcf96f2",
   "metadata": {},
   "outputs": [],
   "source": [
    "import dice_ml\n",
    "import numpy as np\n",
    "import pandas as pd\n",
    "\n",
    "from dice_ml import Dice\n",
    "from dice_ml.utils import helpers  "
   ]
  },
  {
   "cell_type": "code",
   "execution_count": null,
   "id": "cf046b84-015d-469b-a1c9-31f214acb02f",
   "metadata": {},
   "outputs": [],
   "source": [
    "def load_dataDICE(filepath1, filepath2, top_k):\n",
    "    \n",
    "    stand = StandardScaler()\n",
    "    selector = SelectKBest(f_classif, k=top_k)\n",
    "    \n",
    "    data1 = pd.read_pickle(filepath1)\n",
    "    data_df1 = pd.DataFrame(data1)\n",
    "    features_df1 = data_df1[data_df1.columns[1:]]\n",
    "    labels1 = data_df1[data_df1.columns[0]]\n",
    "    \n",
    "    data2 = pd.read_pickle(filepath2)\n",
    "    data_df2 = pd.DataFrame(data2)\n",
    "    features_df2 = data_df2[data_df2.columns[1:]]\n",
    "    labels2 = data_df2[data_df2.columns[0]]\n",
    "\n",
    "    ### Train - 2023 S1 ### \n",
    "    X_train_std = stand.fit_transform(features_df1) \n",
    "    X_train_selected = selector.fit_transform(X_train_std, labels1)\n",
    "    \n",
    "    cols_idxs = selector.get_support(indices=True)\n",
    "    features_selected = features_df1.iloc[:,cols_idxs]\n",
    "    features_selectedName = features_selected.columns.tolist()\n",
    "    \n",
    "    X_train_selected = pd.DataFrame(X_train_selected, columns=features_selectedName)\n",
    "    X_train_stdFull = pd.concat([X_train_selected.reset_index(drop=True), labels1.reset_index(drop=True)], axis=1)\n",
    "         \n",
    "    ### Test - 2023 S2 ### \n",
    "    X_test_std = stand.transform(features_df2)\n",
    "    X_test_selected = selector.transform(X_test_std)\n",
    "    X_test_selected = pd.DataFrame(X_test_selected, columns=features_selectedName)\n",
    "    \n",
    "    return X_train_selected, X_test_selected, features_selectedName, X_train_stdFull"
   ]
  },
  {
   "cell_type": "code",
   "execution_count": null,
   "id": "344b7f4a-7596-454c-951a-cd6c2bd75725",
   "metadata": {},
   "outputs": [],
   "source": [
    "# data_file1, data_file2: The data files used in this experiment.\n",
    "# trainedModel: The trained model used in this study(XGBoost Classifier).\n",
    "# topk: Top-K number.\n",
    "# usedSample: Randomly selected Pandas Dataframe indices. \n",
    "#             In this study, we will randomly group (random sampling) students classified as at-risk by the XGBoost Classifier \n",
    "#             and input each group into DiCE to generate counterfactual instances corresponding to each case. \n",
    "def setDiCE(data_file1, data_file2, trainedModel, topk, usedSample):\n",
    "    \n",
    "    X_train_selected, X_test_selected, features_selectedName, X_train_stdFull = load_dataDICE(data_file1, data_file2, topk)\n",
    "    \n",
    "    # Extract the corresponding rows based on the index.\n",
    "    X_test_selected = X_test_selected.iloc[usedSample]\n",
    "\n",
    "    # features_list1: Set continuous features.\n",
    "    # features_list2: Set features that need modification. If the feature set includes some unchangeable features (such as gender, age), this parameter can be used for setting.\n",
    "    # Set up DiCE according to the official DiCE documentation\n",
    "    xai_dataset = dice_ml.Data(dataframe=X_train_stdFull, continuous_features=features_list1, features_to_vary=features_list2, outcome_name='label')\n",
    "    xai_model = dice_ml.Model(model=trainedModel, backend=\"sklearn\")\n",
    "    exp_explanation = dice_ml.Dice(xai_dataset, xai_model, method=\"random\")\n",
    "    \n",
    "    # valueRange: Set upper and lower numerical limits for each feature to prevent generating counterfactual instances that exceed the numerical range.\n",
    "    # seed： Set seed\n",
    "    dice_explanation = exp_explanation.generate_counterfactuals(X_test_selected, total_CFs=10, desired_class=1, verbose=False, permitted_range=valueRange, random_seed=seed) \n",
    "    dice_explanationJSON = dice_explanation.to_json()\n",
    "    \n",
    "    # After DiCE returns results in JSON format, extract the counterfactual instance, reverse the Z-Score number, and construct the request as part of the prompt that will be input into ChatGPT.\n",
    "    return dice_explanationJSON"
   ]
  },
  {
   "cell_type": "markdown",
   "id": "4cc5d8ba-3a65-420b-bfc7-435c54e75f3f",
   "metadata": {
    "tags": []
   },
   "source": [
    "# ChatGPT"
   ]
  },
  {
   "cell_type": "code",
   "execution_count": null,
   "id": "5c770306-c371-4bef-9fcb-eb7d9bb9ca5a",
   "metadata": {},
   "outputs": [],
   "source": [
    "import pandas as pd\n",
    "import pickle\n",
    "\n",
    "from openai import OpenAI\n",
    "\n",
    "client = OpenAI()\n",
    "\n",
    "# request： \n",
    "def generate_feedback(request):\n",
    "    \n",
    "    # GPT - 4 Models\n",
    "    modelName = \"\" \n",
    "    \n",
    "    # The prompts inputted into the model, including the roles that need to be played as well as the rules that need to be followed for writing feedback.\n",
    "    conversation_list = [\n",
    "        {\"role\": \"system\", \"content\": \"Please act as a teacher to provide feedback for students. The feedback must adhere to the following rules:\"},\n",
    "        {\"role\": \"system\", \"content\": \"Feedback should strengthen the relationships between teachers and learners, and aim to build social relationships with learners by using a polite, positive tone.\"},\n",
    "        {\"role\": \"system\", \"content\": \"Feedback should highlight the strengths of learners’ performance, acknowledging their capabilities to enhance self-efficacy.\"},\n",
    "        {\"role\": \"system\", \"content\": \"Feedback should provide critiques regarding learners' insufficient performance while avoiding the use of harsh wording.\"},\n",
    "        {\"role\": \"system\", \"content\": \"Feedback should provide actionable suggestions regarding learners' insufficient performance, helping them achieve their expected learning goals.\"},\n",
    "        {\"role\": \"system\", \"content\": \"Feedback should encourage learner agency.\"},\n",
    "        {\"role\": \"system\", \"content\": \"Feedback should encourage positive learner affect, showing an emotional response and care on learners’ feelings.\"},\n",
    "        {\"role\": \"system\", \"content\": \"Feedback should promote learner independence by rephrasing comments as questions or suggestions rather than statements, encouraging learners to think for themselves.\"},\n",
    "        {\"role\": \"system\", \"content\": \"Feedback should encourage learners to ask questions, seeking help from others to engage in constructive feedback dialogues.\"},\n",
    "        {\"role\": \"system\", \"content\": \"Feedback should be accessible and comprehensible for learners.\"},\n",
    "        {\"role\": \"system\", \"content\": \"Feedback must not exceed 225 words.\"},\n",
    "        {\"role\": \"system\", \"content\": \"Feedback must provided in the form of an email.\"},\n",
    "        {\"role\": \"user\", \"content\": request}]\n",
    "    \n",
    "        ### Request Example:\n",
    "        # The feedback is based on the students’ higher-than-median learning activities: 1.good performance: Good Statement 1, Good Statement 2.\n",
    "        # , and the under-performed learning activities with the corre- sponding suggestions: Insufficient Statement 1, suggest changing it to Suggestion 1. Insufficient Statement 2, suggest changing it to Suggestion 2.\n",
    "        ### \n",
    "        \n",
    "    # Return generated feedback\n",
    "    response = client.chat.completions.create(model=modelName, messages=conversation_list)\n",
    "    feedback = response.choices[0].message.content\n",
    "    return feedback"
   ]
  }
 ],
 "metadata": {
  "kernelspec": {
   "display_name": "Python 3 (ipykernel)",
   "language": "python",
   "name": "python3"
  },
  "language_info": {
   "codemirror_mode": {
    "name": "ipython",
    "version": 3
   },
   "file_extension": ".py",
   "mimetype": "text/x-python",
   "name": "python",
   "nbconvert_exporter": "python",
   "pygments_lexer": "ipython3",
   "version": "3.11.3"
  }
 },
 "nbformat": 4,
 "nbformat_minor": 5
}
